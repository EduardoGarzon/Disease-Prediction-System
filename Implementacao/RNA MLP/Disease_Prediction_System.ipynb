{
  "nbformat": 4,
  "nbformat_minor": 0,
  "metadata": {
    "colab": {
      "provenance": []
    },
    "kernelspec": {
      "name": "python3",
      "display_name": "Python 3"
    },
    "language_info": {
      "name": "python"
    }
  },
  "cells": [
    {
      "cell_type": "markdown",
      "source": [
        "**EXECUTE O BLOCO ABAIXO PARA CARREGAR TODAS AS FERRAMENTAS NECESSÁRIAS.**"
      ],
      "metadata": {
        "id": "Sc1ZB8a2bvPY"
      }
    },
    {
      "cell_type": "code",
      "source": [
        "# Instalando a versão mais recente do TensorFlow.\n",
        "!pip install tensorflow # Biblioteca para aprendizado de máquina e redes neurais.\n",
        "\n",
        "# Importando todas as bibliotecas necessárias.\n",
        "import pandas as pd # Manipulacao e análise de dados, DataFrames, processar planilhas.\n",
        "import numpy as np  # Operacoes matemáticas e manipulacao de arrays.\n",
        "\n",
        "# Ferramentas para aprendizagem de máquina.\n",
        "from sklearn.model_selection import train_test_split # Divide o conjunto de dados em treinamento e teste.\n",
        "from sklearn.preprocessing import StandardScaler     # Normaliza os dados para melhorar o desempenho do modelo, ajustando-os para uma média de 0 e variância de 1.\n",
        "from sklearn.preprocessing import LabelEncoder       # Converte rótulos de texto em valores numéricos.\n",
        "from sklearn.metrics import confusion_matrix         # Avaliar o desempenho do modelo atráves da matriz de confusão.\n",
        "\n",
        "# API que roda no TensorFlow para trabalhar com RNAs.\n",
        "from keras.utils import to_categorical    # Converte rótulos numéricos em uma codificação categórica (one-hot encoding).\n",
        "from keras.models import Sequential       # Permite construir um modelo empilhando camadas de forma sequencial.\n",
        "from keras.layers import Dense            # Permite adicionar uma camada completamente conectada à rede neural.\n",
        "from keras.optimizers import Adam         # Permite utilizar um otimizador Adam que ajusta os pesos da rede para minimizar o erro.\n",
        "from keras.callbacks import EarlyStopping # Permite interromper o treinamento automaticamente quando o desempenho não melhora, prevenindo o overfitting.\n",
        "import matplotlib.pyplot as plt           # Visualização de dados para gráficos.\n",
        "from google.colab import files            # Permite carregar e baixar arquivos no ambiente do Colab.\n",
        "import seaborn as sns                     # Facilita a visualização de gráficos junto com o Matplotlib."
      ],
      "metadata": {
        "id": "aOL9_3iuzplK",
        "colab": {
          "base_uri": "https://localhost:8080/"
        },
        "outputId": "c50e4786-b450-4a36-a12c-005f1b20666e",
        "collapsed": true
      },
      "execution_count": null,
      "outputs": [
        {
          "output_type": "stream",
          "name": "stdout",
          "text": [
            "Requirement already satisfied: tensorflow in /usr/local/lib/python3.10/dist-packages (2.17.0)\n",
            "Requirement already satisfied: absl-py>=1.0.0 in /usr/local/lib/python3.10/dist-packages (from tensorflow) (1.4.0)\n",
            "Requirement already satisfied: astunparse>=1.6.0 in /usr/local/lib/python3.10/dist-packages (from tensorflow) (1.6.3)\n",
            "Requirement already satisfied: flatbuffers>=24.3.25 in /usr/local/lib/python3.10/dist-packages (from tensorflow) (24.3.25)\n",
            "Requirement already satisfied: gast!=0.5.0,!=0.5.1,!=0.5.2,>=0.2.1 in /usr/local/lib/python3.10/dist-packages (from tensorflow) (0.6.0)\n",
            "Requirement already satisfied: google-pasta>=0.1.1 in /usr/local/lib/python3.10/dist-packages (from tensorflow) (0.2.0)\n",
            "Requirement already satisfied: h5py>=3.10.0 in /usr/local/lib/python3.10/dist-packages (from tensorflow) (3.11.0)\n",
            "Requirement already satisfied: libclang>=13.0.0 in /usr/local/lib/python3.10/dist-packages (from tensorflow) (18.1.1)\n",
            "Requirement already satisfied: ml-dtypes<0.5.0,>=0.3.1 in /usr/local/lib/python3.10/dist-packages (from tensorflow) (0.4.1)\n",
            "Requirement already satisfied: opt-einsum>=2.3.2 in /usr/local/lib/python3.10/dist-packages (from tensorflow) (3.4.0)\n",
            "Requirement already satisfied: packaging in /usr/local/lib/python3.10/dist-packages (from tensorflow) (24.1)\n",
            "Requirement already satisfied: protobuf!=4.21.0,!=4.21.1,!=4.21.2,!=4.21.3,!=4.21.4,!=4.21.5,<5.0.0dev,>=3.20.3 in /usr/local/lib/python3.10/dist-packages (from tensorflow) (3.20.3)\n",
            "Requirement already satisfied: requests<3,>=2.21.0 in /usr/local/lib/python3.10/dist-packages (from tensorflow) (2.32.3)\n",
            "Requirement already satisfied: setuptools in /usr/local/lib/python3.10/dist-packages (from tensorflow) (75.1.0)\n",
            "Requirement already satisfied: six>=1.12.0 in /usr/local/lib/python3.10/dist-packages (from tensorflow) (1.16.0)\n",
            "Requirement already satisfied: termcolor>=1.1.0 in /usr/local/lib/python3.10/dist-packages (from tensorflow) (2.5.0)\n",
            "Requirement already satisfied: typing-extensions>=3.6.6 in /usr/local/lib/python3.10/dist-packages (from tensorflow) (4.12.2)\n",
            "Requirement already satisfied: wrapt>=1.11.0 in /usr/local/lib/python3.10/dist-packages (from tensorflow) (1.16.0)\n",
            "Requirement already satisfied: grpcio<2.0,>=1.24.3 in /usr/local/lib/python3.10/dist-packages (from tensorflow) (1.64.1)\n",
            "Requirement already satisfied: tensorboard<2.18,>=2.17 in /usr/local/lib/python3.10/dist-packages (from tensorflow) (2.17.0)\n",
            "Requirement already satisfied: keras>=3.2.0 in /usr/local/lib/python3.10/dist-packages (from tensorflow) (3.4.1)\n",
            "Requirement already satisfied: tensorflow-io-gcs-filesystem>=0.23.1 in /usr/local/lib/python3.10/dist-packages (from tensorflow) (0.37.1)\n",
            "Requirement already satisfied: numpy<2.0.0,>=1.23.5 in /usr/local/lib/python3.10/dist-packages (from tensorflow) (1.26.4)\n",
            "Requirement already satisfied: wheel<1.0,>=0.23.0 in /usr/local/lib/python3.10/dist-packages (from astunparse>=1.6.0->tensorflow) (0.44.0)\n",
            "Requirement already satisfied: rich in /usr/local/lib/python3.10/dist-packages (from keras>=3.2.0->tensorflow) (13.9.3)\n",
            "Requirement already satisfied: namex in /usr/local/lib/python3.10/dist-packages (from keras>=3.2.0->tensorflow) (0.0.8)\n",
            "Requirement already satisfied: optree in /usr/local/lib/python3.10/dist-packages (from keras>=3.2.0->tensorflow) (0.13.0)\n",
            "Requirement already satisfied: charset-normalizer<4,>=2 in /usr/local/lib/python3.10/dist-packages (from requests<3,>=2.21.0->tensorflow) (3.4.0)\n",
            "Requirement already satisfied: idna<4,>=2.5 in /usr/local/lib/python3.10/dist-packages (from requests<3,>=2.21.0->tensorflow) (3.10)\n",
            "Requirement already satisfied: urllib3<3,>=1.21.1 in /usr/local/lib/python3.10/dist-packages (from requests<3,>=2.21.0->tensorflow) (2.2.3)\n",
            "Requirement already satisfied: certifi>=2017.4.17 in /usr/local/lib/python3.10/dist-packages (from requests<3,>=2.21.0->tensorflow) (2024.8.30)\n",
            "Requirement already satisfied: markdown>=2.6.8 in /usr/local/lib/python3.10/dist-packages (from tensorboard<2.18,>=2.17->tensorflow) (3.7)\n",
            "Requirement already satisfied: tensorboard-data-server<0.8.0,>=0.7.0 in /usr/local/lib/python3.10/dist-packages (from tensorboard<2.18,>=2.17->tensorflow) (0.7.2)\n",
            "Requirement already satisfied: werkzeug>=1.0.1 in /usr/local/lib/python3.10/dist-packages (from tensorboard<2.18,>=2.17->tensorflow) (3.0.4)\n",
            "Requirement already satisfied: MarkupSafe>=2.1.1 in /usr/local/lib/python3.10/dist-packages (from werkzeug>=1.0.1->tensorboard<2.18,>=2.17->tensorflow) (3.0.2)\n",
            "Requirement already satisfied: markdown-it-py>=2.2.0 in /usr/local/lib/python3.10/dist-packages (from rich->keras>=3.2.0->tensorflow) (3.0.0)\n",
            "Requirement already satisfied: pygments<3.0.0,>=2.13.0 in /usr/local/lib/python3.10/dist-packages (from rich->keras>=3.2.0->tensorflow) (2.18.0)\n",
            "Requirement already satisfied: mdurl~=0.1 in /usr/local/lib/python3.10/dist-packages (from markdown-it-py>=2.2.0->rich->keras>=3.2.0->tensorflow) (0.1.2)\n"
          ]
        }
      ]
    },
    {
      "cell_type": "markdown",
      "source": [
        "**EXECUTE O CÓDIGO ABAIXO PARA SELECIONAR OS ARQUIVOS DE TREINAMENTO, TESTE E PESOS DE CADA SINTOMA. CLIQUE EM 'CHOOSE FILES' E SELECIONE TODOS OS RESPECTIVOS ARQUIVOS NA BASE DE DADOS UTILIZADA QUE SE ENCONTRA NA PASTA 'BASE DE DADOS UTILIZADA'.**"
      ],
      "metadata": {
        "id": "Pxhq0ZWGb50w"
      }
    },
    {
      "cell_type": "code",
      "source": [
        "# Carregando os datasets de treinamento, teste e pesos para a severidade dos sintomas.\n",
        "uploaded = files.upload()\n",
        "\n",
        "data_train = pd.read_csv('Training-Classificado.csv', delimiter=';') # Treinamento.\n",
        "data_test = pd.read_csv('Testing-Classificado.csv', delimiter=';')   # Teste.\n",
        "severity_data = pd.read_csv('Symptom-Severity.csv', delimiter=';')   # Pesos dos Sintomas.\n",
        "\n",
        "# Normalizando os nomes das colunas de cada dataset (removendo espaços em branco extras do inicio e fim).\n",
        "data_train.columns = data_train.columns.str.strip()\n",
        "data_test.columns = data_test.columns.str.strip()\n",
        "severity_data.columns = severity_data.columns.str.strip()"
      ],
      "metadata": {
        "colab": {
          "base_uri": "https://localhost:8080/",
          "height": 246
        },
        "collapsed": true,
        "id": "q2KZ1OPj19l2",
        "outputId": "cd2d6a68-063b-4141-de8e-ed041ba01d98"
      },
      "execution_count": null,
      "outputs": [
        {
          "output_type": "display_data",
          "data": {
            "text/plain": [
              "<IPython.core.display.HTML object>"
            ],
            "text/html": [
              "\n",
              "     <input type=\"file\" id=\"files-f479548c-7f2f-437c-be60-9a6fcc60df6c\" name=\"files[]\" multiple disabled\n",
              "        style=\"border:none\" />\n",
              "     <output id=\"result-f479548c-7f2f-437c-be60-9a6fcc60df6c\">\n",
              "      Upload widget is only available when the cell has been executed in the\n",
              "      current browser session. Please rerun this cell to enable.\n",
              "      </output>\n",
              "      <script>// Copyright 2017 Google LLC\n",
              "//\n",
              "// Licensed under the Apache License, Version 2.0 (the \"License\");\n",
              "// you may not use this file except in compliance with the License.\n",
              "// You may obtain a copy of the License at\n",
              "//\n",
              "//      http://www.apache.org/licenses/LICENSE-2.0\n",
              "//\n",
              "// Unless required by applicable law or agreed to in writing, software\n",
              "// distributed under the License is distributed on an \"AS IS\" BASIS,\n",
              "// WITHOUT WARRANTIES OR CONDITIONS OF ANY KIND, either express or implied.\n",
              "// See the License for the specific language governing permissions and\n",
              "// limitations under the License.\n",
              "\n",
              "/**\n",
              " * @fileoverview Helpers for google.colab Python module.\n",
              " */\n",
              "(function(scope) {\n",
              "function span(text, styleAttributes = {}) {\n",
              "  const element = document.createElement('span');\n",
              "  element.textContent = text;\n",
              "  for (const key of Object.keys(styleAttributes)) {\n",
              "    element.style[key] = styleAttributes[key];\n",
              "  }\n",
              "  return element;\n",
              "}\n",
              "\n",
              "// Max number of bytes which will be uploaded at a time.\n",
              "const MAX_PAYLOAD_SIZE = 100 * 1024;\n",
              "\n",
              "function _uploadFiles(inputId, outputId) {\n",
              "  const steps = uploadFilesStep(inputId, outputId);\n",
              "  const outputElement = document.getElementById(outputId);\n",
              "  // Cache steps on the outputElement to make it available for the next call\n",
              "  // to uploadFilesContinue from Python.\n",
              "  outputElement.steps = steps;\n",
              "\n",
              "  return _uploadFilesContinue(outputId);\n",
              "}\n",
              "\n",
              "// This is roughly an async generator (not supported in the browser yet),\n",
              "// where there are multiple asynchronous steps and the Python side is going\n",
              "// to poll for completion of each step.\n",
              "// This uses a Promise to block the python side on completion of each step,\n",
              "// then passes the result of the previous step as the input to the next step.\n",
              "function _uploadFilesContinue(outputId) {\n",
              "  const outputElement = document.getElementById(outputId);\n",
              "  const steps = outputElement.steps;\n",
              "\n",
              "  const next = steps.next(outputElement.lastPromiseValue);\n",
              "  return Promise.resolve(next.value.promise).then((value) => {\n",
              "    // Cache the last promise value to make it available to the next\n",
              "    // step of the generator.\n",
              "    outputElement.lastPromiseValue = value;\n",
              "    return next.value.response;\n",
              "  });\n",
              "}\n",
              "\n",
              "/**\n",
              " * Generator function which is called between each async step of the upload\n",
              " * process.\n",
              " * @param {string} inputId Element ID of the input file picker element.\n",
              " * @param {string} outputId Element ID of the output display.\n",
              " * @return {!Iterable<!Object>} Iterable of next steps.\n",
              " */\n",
              "function* uploadFilesStep(inputId, outputId) {\n",
              "  const inputElement = document.getElementById(inputId);\n",
              "  inputElement.disabled = false;\n",
              "\n",
              "  const outputElement = document.getElementById(outputId);\n",
              "  outputElement.innerHTML = '';\n",
              "\n",
              "  const pickedPromise = new Promise((resolve) => {\n",
              "    inputElement.addEventListener('change', (e) => {\n",
              "      resolve(e.target.files);\n",
              "    });\n",
              "  });\n",
              "\n",
              "  const cancel = document.createElement('button');\n",
              "  inputElement.parentElement.appendChild(cancel);\n",
              "  cancel.textContent = 'Cancel upload';\n",
              "  const cancelPromise = new Promise((resolve) => {\n",
              "    cancel.onclick = () => {\n",
              "      resolve(null);\n",
              "    };\n",
              "  });\n",
              "\n",
              "  // Wait for the user to pick the files.\n",
              "  const files = yield {\n",
              "    promise: Promise.race([pickedPromise, cancelPromise]),\n",
              "    response: {\n",
              "      action: 'starting',\n",
              "    }\n",
              "  };\n",
              "\n",
              "  cancel.remove();\n",
              "\n",
              "  // Disable the input element since further picks are not allowed.\n",
              "  inputElement.disabled = true;\n",
              "\n",
              "  if (!files) {\n",
              "    return {\n",
              "      response: {\n",
              "        action: 'complete',\n",
              "      }\n",
              "    };\n",
              "  }\n",
              "\n",
              "  for (const file of files) {\n",
              "    const li = document.createElement('li');\n",
              "    li.append(span(file.name, {fontWeight: 'bold'}));\n",
              "    li.append(span(\n",
              "        `(${file.type || 'n/a'}) - ${file.size} bytes, ` +\n",
              "        `last modified: ${\n",
              "            file.lastModifiedDate ? file.lastModifiedDate.toLocaleDateString() :\n",
              "                                    'n/a'} - `));\n",
              "    const percent = span('0% done');\n",
              "    li.appendChild(percent);\n",
              "\n",
              "    outputElement.appendChild(li);\n",
              "\n",
              "    const fileDataPromise = new Promise((resolve) => {\n",
              "      const reader = new FileReader();\n",
              "      reader.onload = (e) => {\n",
              "        resolve(e.target.result);\n",
              "      };\n",
              "      reader.readAsArrayBuffer(file);\n",
              "    });\n",
              "    // Wait for the data to be ready.\n",
              "    let fileData = yield {\n",
              "      promise: fileDataPromise,\n",
              "      response: {\n",
              "        action: 'continue',\n",
              "      }\n",
              "    };\n",
              "\n",
              "    // Use a chunked sending to avoid message size limits. See b/62115660.\n",
              "    let position = 0;\n",
              "    do {\n",
              "      const length = Math.min(fileData.byteLength - position, MAX_PAYLOAD_SIZE);\n",
              "      const chunk = new Uint8Array(fileData, position, length);\n",
              "      position += length;\n",
              "\n",
              "      const base64 = btoa(String.fromCharCode.apply(null, chunk));\n",
              "      yield {\n",
              "        response: {\n",
              "          action: 'append',\n",
              "          file: file.name,\n",
              "          data: base64,\n",
              "        },\n",
              "      };\n",
              "\n",
              "      let percentDone = fileData.byteLength === 0 ?\n",
              "          100 :\n",
              "          Math.round((position / fileData.byteLength) * 100);\n",
              "      percent.textContent = `${percentDone}% done`;\n",
              "\n",
              "    } while (position < fileData.byteLength);\n",
              "  }\n",
              "\n",
              "  // All done.\n",
              "  yield {\n",
              "    response: {\n",
              "      action: 'complete',\n",
              "    }\n",
              "  };\n",
              "}\n",
              "\n",
              "scope.google = scope.google || {};\n",
              "scope.google.colab = scope.google.colab || {};\n",
              "scope.google.colab._files = {\n",
              "  _uploadFiles,\n",
              "  _uploadFilesContinue,\n",
              "};\n",
              "})(self);\n",
              "</script> "
            ]
          },
          "metadata": {}
        },
        {
          "output_type": "stream",
          "name": "stdout",
          "text": [
            "Saving Dataset.csv to Dataset.csv\n",
            "Saving Disease_Classes.csv to Disease_Classes.csv\n",
            "Saving Disease_Precaution.csv to Disease_Precaution.csv\n",
            "Saving Symptom-Severity.csv to Symptom-Severity.csv\n",
            "Saving Testing-Classificado.csv to Testing-Classificado.csv\n",
            "Saving Training-Classificado.csv to Training-Classificado.csv\n"
          ]
        }
      ]
    },
    {
      "cell_type": "code",
      "source": [
        "# Exibindo informações sobre os DataFrames carregados.\n",
        "print(\"Informações sobre o DataFrame de Treinamento:\")\n",
        "print(data_train.info())\n",
        "print(\"\\nInformações sobre o DataFrame de Teste:\")\n",
        "print(data_test.info())\n",
        "print(\"\\nInformações sobre o DataFrame de Severidade:\")\n",
        "print(severity_data.info())"
      ],
      "metadata": {
        "colab": {
          "base_uri": "https://localhost:8080/"
        },
        "id": "DKKGY_vgA6Ui",
        "outputId": "969c802a-4fa9-41ea-c129-bf0210993684"
      },
      "execution_count": null,
      "outputs": [
        {
          "output_type": "stream",
          "name": "stdout",
          "text": [
            "Informações sobre o DataFrame de Treinamento:\n",
            "<class 'pandas.core.frame.DataFrame'>\n",
            "RangeIndex: 306 entries, 0 to 305\n",
            "Columns: 135 entries, abdominal_pain to prognosis\n",
            "dtypes: int64(134), object(1)\n",
            "memory usage: 322.9+ KB\n",
            "None\n",
            "\n",
            "Informações sobre o DataFrame de Teste:\n",
            "<class 'pandas.core.frame.DataFrame'>\n",
            "RangeIndex: 42 entries, 0 to 41\n",
            "Columns: 135 entries, abdominal_pain to prognosis\n",
            "dtypes: int64(134), object(1)\n",
            "memory usage: 44.4+ KB\n",
            "None\n",
            "\n",
            "Informações sobre o DataFrame de Severidade:\n",
            "<class 'pandas.core.frame.DataFrame'>\n",
            "RangeIndex: 134 entries, 0 to 133\n",
            "Data columns (total 2 columns):\n",
            " #   Column    Non-Null Count  Dtype \n",
            "---  ------    --------------  ----- \n",
            " 0   Symptom   134 non-null    object\n",
            " 1   Severity  134 non-null    int64 \n",
            "dtypes: int64(1), object(1)\n",
            "memory usage: 2.2+ KB\n",
            "None\n"
          ]
        }
      ]
    },
    {
      "cell_type": "markdown",
      "source": [
        "**EXECUTE O BLOCO ABAIXO PARA AJUSTAR E NORMALIZAR OS DATAFRAMES CARREGADOS. OS COMENTÁRIOS EXPLICAM O FUNCIONAMENTO PASSO A PASSO.**"
      ],
      "metadata": {
        "id": "zVESDbYqc7Fk"
      }
    },
    {
      "cell_type": "code",
      "source": [
        "# Extraindo os nomes dos sintomas e os pesos correspondentes em um dicionário.\n",
        "# As chaves são os sintomas e os valores são os respectivos pesos.\n",
        "weights_dict = dict(zip(severity_data['Symptom'], severity_data['Severity']))\n",
        "\n",
        "# Extraindo em variáveis independentes a coluna dos sintomas e diganósticos para o arquivo de treinamento.\n",
        "X_train = data_train.drop('prognosis', axis=1)  # features (sintomas).\n",
        "y_train = data_train['prognosis']               # target (diagnósticos).\n",
        "\n",
        "# Extraindo em variáveis independentes a coluna dos sintomas e diganósticos para o arquivo de treinamento.\n",
        "X_test = data_test.drop('prognosis', axis=1)  # features (sintomas).\n",
        "y_test = data_test['prognosis']               # target (diagnósticos).\n",
        "\n",
        "# Faz uma cópia para não sobrescrever os dados originais com a multiplicacao dos sintomas pelos seus respectivos pesos.\n",
        "X_train_weighted = X_train.copy()\n",
        "X_test_weighted = X_test.copy()\n",
        "\n",
        "# Multiplicando apenas os sintomas presentes (valor 1 na planilha) nos arquivos de treinamento e teste pelos seus respectivos pesos.\n",
        "for symptom in weights_dict.keys():\n",
        "    # Treinamento.\n",
        "    if symptom in X_train_weighted.columns:\n",
        "        X_train_weighted[symptom] *= weights_dict[symptom]\n",
        "    # Teste.\n",
        "    if symptom in X_test_weighted.columns:\n",
        "        X_test_weighted[symptom] *= weights_dict[symptom]\n",
        "\n",
        "# Normalizando os dados de teste e treinamento ponderados para que todos fiquem em uma escala semelhante.\n",
        "scaler = StandardScaler()                                             # Ajusta os dados para uma média de 0 e desvio padrão de 1. Coloca os sintomas em uma escala comparável.\n",
        "X_train_weighted_normalized = scaler.fit_transform(X_train_weighted)  # Calcular e aplicar a normalização ao conjunto de treinamento.\n",
        "X_test_weighted_normalized = scaler.transform(X_test_weighted)        # Calcular e aplicar a normalização ao conjunto de teste."
      ],
      "metadata": {
        "id": "0GlLpWv8BB2q"
      },
      "execution_count": null,
      "outputs": []
    },
    {
      "cell_type": "markdown",
      "source": [
        "**EXECUTE O CÓDIGO ABAIXO PARA REALIZAR A CODIFICACAO ONE-HOT ENCONDING. OS COMENTÁRIOS EXPLICAM PASSO A PASSO O FUNCIONAMENTO.**"
      ],
      "metadata": {
        "id": "xafeHj5BdMko"
      }
    },
    {
      "cell_type": "code",
      "source": [
        "# Convertendo os rótulos de saída (diagnósticos) string dos dataframes de treinamento e teste para one-hot encoding.\n",
        "# Garante que os rótulos estejam em um formato adequado para o modelo de redes neurais.\n",
        "# O one-hot encoding é útil para classificar corretamente o diagnóstico pois transforma o problema em uma tarefa de classificação multiclasse.\n",
        "\n",
        "label_encoder = LabelEncoder()                          # Classe para transformar os textos (nomes das classes) em valores numéricos.\n",
        "y_train_encoded = label_encoder.fit_transform(y_train)  # Converte cada rótulo (classes no dataframe de treinamento) para um número inteiro único em uma lista.\n",
        "y_test_encoded = label_encoder.transform(y_test)        # Converte cada rótulo (classes no dataframe de teste) para um número inteiro único em uma lista.\n",
        "\n",
        "# Converter para one-hot encoding (útil para classificacao onde cada diagnóstico tem sua posicao única na saída).\n",
        "num_classes = len(label_encoder.classes_) # Conta o número de classes (diagnósticos) detectadas nos conjuntos de dados (teste e treinamento).\n",
        "\n",
        "# Definindo a dimensao do vetor one-hot. Contém 1 na posicao correspondente a classe e 0 nas demais posicoes.\n",
        "y_train_onehot = to_categorical(y_train_encoded, num_classes=num_classes)\n",
        "y_test_onehot = to_categorical(y_test_encoded, num_classes=num_classes)\n",
        "\n",
        "# Exibindo as classes e seus valores one-hot correspondentes.\n",
        "print(\"Classes e seus valores one-hot:\")\n",
        "# Para cada classe (usando o índice idx) do total de classes cria um vetor one-hot correspondente.\n",
        "for idx, class_name in enumerate(label_encoder.classes_):\n",
        "    one_hot_vector = to_categorical([idx], num_classes=num_classes)[0]\n",
        "    print(f\"{class_name}: {one_hot_vector}\")"
      ],
      "metadata": {
        "colab": {
          "base_uri": "https://localhost:8080/"
        },
        "id": "gmCnCGopBIFa",
        "outputId": "5580863f-d1d7-48d6-aeaa-04e6af73e9d7"
      },
      "execution_count": null,
      "outputs": [
        {
          "output_type": "stream",
          "name": "stdout",
          "text": [
            "Classes e seus valores one-hot:\n",
            "Classe 1: [1. 0. 0. 0. 0. 0. 0. 0. 0.]\n",
            "Classe 2: [0. 1. 0. 0. 0. 0. 0. 0. 0.]\n",
            "Classe 3: [0. 0. 1. 0. 0. 0. 0. 0. 0.]\n",
            "Classe 4: [0. 0. 0. 1. 0. 0. 0. 0. 0.]\n",
            "Classe 5: [0. 0. 0. 0. 1. 0. 0. 0. 0.]\n",
            "Classe 6: [0. 0. 0. 0. 0. 1. 0. 0. 0.]\n",
            "Classe 7: [0. 0. 0. 0. 0. 0. 1. 0. 0.]\n",
            "Classe 8: [0. 0. 0. 0. 0. 0. 0. 1. 0.]\n",
            "Classe 9: [0. 0. 0. 0. 0. 0. 0. 0. 1.]\n"
          ]
        }
      ]
    },
    {
      "cell_type": "markdown",
      "source": [
        "**EXECUTE O CÓDIGO ABAIXO PARA REALIZAR A INSTÂNCIA DA MLP, TREINAMENTO E TESTE NA CONFIGURACAO PADRÃO.**\n",
        "\n",
        "**HIPER PARÂMETROS QUE PODEM SER AJUSTADOS:**\n",
        "1.   **HIDDEN_NEURONS**\n",
        "2.   **ACTIVATION**\n",
        "3.   **OPTIMIZER**\n",
        "4.   **LEARNING_RATE**\n",
        "5.   **LOSS**\n",
        "6.   **METRICS**\n",
        "7.   **EPOCS**\n",
        "8.   **BATCH_SIZE**\n",
        "\n",
        "**OS COMENTÁRIOS EXPLICAM EM DETALHE O FUNCIONAMENTO DA REDE E TODOS OS SEUS PARÂMETROS.**\n"
      ],
      "metadata": {
        "id": "EoqMuhLvdxg9"
      }
    },
    {
      "cell_type": "code",
      "source": [
        "# RNA MLP\n",
        "\n",
        "# Definir o número de entradas, camadas ocultas e saídas.\n",
        "input_dim = X_train_weighted.shape[1] # Número de características (sintomas) no conjunto de dados de treinamento.\n",
        "hidden_neurons = 72                   # Número de neurônios na camada oculta.\n",
        "output_neurons = 9                    # Número de neurônios na camada de saída (9 classes). Cada um representa a probabilidade de uma classe específica.\n",
        "\n",
        "# Construindo o modelo MLP Sequencial do Keras.\n",
        "# As camadas da RNA são adicionadas em sequência.\n",
        "model = Sequential()\n",
        "\n",
        "# Construindo: Camada de entrada -> camada oculta.\n",
        "model.add(Dense(hidden_neurons, input_dim=input_dim, activation='relu')) # Número de neurônios da camada oculta, Número de entradas, Funcao de ativacao.\n",
        "\n",
        "# Construindo: Camada de saída.\n",
        "model.add(Dense(output_neurons, activation='softmax')) # Número de neurônios da camada de saída, Funcao de ativacao.\n",
        "\n",
        "# Compilar o modelo.\n",
        "model.compile(optimizer=Adam(learning_rate=0.001),  # Otimizador para ajustar os pesos da rede e minimizar o erro. Taxa de aprendizado para controlar o quanto os pesos mudam a cada passo.\n",
        "              loss='categorical_crossentropy',      # Funcao de perda para classificacao multiclasse que calcula o erro entre as saídas previstas.\n",
        "              metrics=['accuracy'])                 # Define a métrica a ser monitorada, no caso, acurácia da classificacao.\n",
        "\n",
        "# Previne o overfitting, interrompe o treinamento quando o modelo apresenta piora na perda de validacao (val_loss).\n",
        "early_stopping = EarlyStopping(monitor='val_loss',        # Observa a perda de validacao.\n",
        "                               patience=5,                # Define o número de épocas consecutivas sem melhora no val_loss buscando melhorar por 5 épocas adicionais antes de parar.\n",
        "                               restore_best_weights=True) # Restaura os melhores pesos no conjunto de validacao.\n",
        "\n",
        "# Treinar o modelo com os dados ponderados e normalizados.\n",
        "history = model.fit(X_train_weighted_normalized, y_train_onehot,                  # Sintomas ponderados normalizados e Rótulos de sáida no formato one-hot (Conjunto de treinamento).\n",
        "                    epochs=15,                                                    # Número máximo de épocas (passagem completa pelo conjunto de dados).\n",
        "                    batch_size=4,                                                 # Tamanho do lote (total de amostras processadas antes de atualizar os pesos do modelo).\n",
        "                    validation_data=(X_test_weighted_normalized, y_test_onehot))  # Dados de validacao para avaliar o desempenho do modelo (Conjunto de teste: sintomas e rótulos de saída)."
      ],
      "metadata": {
        "colab": {
          "base_uri": "https://localhost:8080/"
        },
        "collapsed": true,
        "id": "zHWHxaU8BN7h",
        "outputId": "55ab38ce-a6b6-4d89-8183-3468f8296a81"
      },
      "execution_count": null,
      "outputs": [
        {
          "output_type": "stream",
          "name": "stdout",
          "text": [
            "Epoch 1/15\n"
          ]
        },
        {
          "output_type": "stream",
          "name": "stderr",
          "text": [
            "/usr/local/lib/python3.10/dist-packages/keras/src/layers/core/dense.py:87: UserWarning: Do not pass an `input_shape`/`input_dim` argument to a layer. When using Sequential models, prefer using an `Input(shape)` object as the first layer in the model instead.\n",
            "  super().__init__(activity_regularizer=activity_regularizer, **kwargs)\n"
          ]
        },
        {
          "output_type": "stream",
          "name": "stdout",
          "text": [
            "\u001b[1m77/77\u001b[0m \u001b[32m━━━━━━━━━━━━━━━━━━━━\u001b[0m\u001b[37m\u001b[0m \u001b[1m2s\u001b[0m 7ms/step - accuracy: 0.3068 - loss: 2.1037 - val_accuracy: 0.8571 - val_loss: 0.6528\n",
            "Epoch 2/15\n",
            "\u001b[1m77/77\u001b[0m \u001b[32m━━━━━━━━━━━━━━━━━━━━\u001b[0m\u001b[37m\u001b[0m \u001b[1m0s\u001b[0m 3ms/step - accuracy: 0.9043 - loss: 0.5264 - val_accuracy: 0.9762 - val_loss: 0.2106\n",
            "Epoch 3/15\n",
            "\u001b[1m77/77\u001b[0m \u001b[32m━━━━━━━━━━━━━━━━━━━━\u001b[0m\u001b[37m\u001b[0m \u001b[1m0s\u001b[0m 4ms/step - accuracy: 0.9794 - loss: 0.2269 - val_accuracy: 1.0000 - val_loss: 0.0866\n",
            "Epoch 4/15\n",
            "\u001b[1m77/77\u001b[0m \u001b[32m━━━━━━━━━━━━━━━━━━━━\u001b[0m\u001b[37m\u001b[0m \u001b[1m1s\u001b[0m 3ms/step - accuracy: 0.9899 - loss: 0.1276 - val_accuracy: 1.0000 - val_loss: 0.0415\n",
            "Epoch 5/15\n",
            "\u001b[1m77/77\u001b[0m \u001b[32m━━━━━━━━━━━━━━━━━━━━\u001b[0m\u001b[37m\u001b[0m \u001b[1m0s\u001b[0m 4ms/step - accuracy: 1.0000 - loss: 0.0647 - val_accuracy: 1.0000 - val_loss: 0.0239\n",
            "Epoch 6/15\n",
            "\u001b[1m77/77\u001b[0m \u001b[32m━━━━━━━━━━━━━━━━━━━━\u001b[0m\u001b[37m\u001b[0m \u001b[1m1s\u001b[0m 3ms/step - accuracy: 1.0000 - loss: 0.0545 - val_accuracy: 1.0000 - val_loss: 0.0141\n",
            "Epoch 7/15\n",
            "\u001b[1m77/77\u001b[0m \u001b[32m━━━━━━━━━━━━━━━━━━━━\u001b[0m\u001b[37m\u001b[0m \u001b[1m0s\u001b[0m 2ms/step - accuracy: 1.0000 - loss: 0.0352 - val_accuracy: 1.0000 - val_loss: 0.0094\n",
            "Epoch 8/15\n",
            "\u001b[1m77/77\u001b[0m \u001b[32m━━━━━━━━━━━━━━━━━━━━\u001b[0m\u001b[37m\u001b[0m \u001b[1m0s\u001b[0m 2ms/step - accuracy: 1.0000 - loss: 0.0261 - val_accuracy: 1.0000 - val_loss: 0.0068\n",
            "Epoch 9/15\n",
            "\u001b[1m77/77\u001b[0m \u001b[32m━━━━━━━━━━━━━━━━━━━━\u001b[0m\u001b[37m\u001b[0m \u001b[1m0s\u001b[0m 2ms/step - accuracy: 1.0000 - loss: 0.0165 - val_accuracy: 1.0000 - val_loss: 0.0050\n",
            "Epoch 10/15\n",
            "\u001b[1m77/77\u001b[0m \u001b[32m━━━━━━━━━━━━━━━━━━━━\u001b[0m\u001b[37m\u001b[0m \u001b[1m0s\u001b[0m 2ms/step - accuracy: 1.0000 - loss: 0.0140 - val_accuracy: 1.0000 - val_loss: 0.0039\n",
            "Epoch 11/15\n",
            "\u001b[1m77/77\u001b[0m \u001b[32m━━━━━━━━━━━━━━━━━━━━\u001b[0m\u001b[37m\u001b[0m \u001b[1m0s\u001b[0m 2ms/step - accuracy: 1.0000 - loss: 0.0131 - val_accuracy: 1.0000 - val_loss: 0.0031\n",
            "Epoch 12/15\n",
            "\u001b[1m77/77\u001b[0m \u001b[32m━━━━━━━━━━━━━━━━━━━━\u001b[0m\u001b[37m\u001b[0m \u001b[1m0s\u001b[0m 2ms/step - accuracy: 1.0000 - loss: 0.0124 - val_accuracy: 1.0000 - val_loss: 0.0024\n",
            "Epoch 13/15\n",
            "\u001b[1m77/77\u001b[0m \u001b[32m━━━━━━━━━━━━━━━━━━━━\u001b[0m\u001b[37m\u001b[0m \u001b[1m0s\u001b[0m 2ms/step - accuracy: 1.0000 - loss: 0.0089 - val_accuracy: 1.0000 - val_loss: 0.0020\n",
            "Epoch 14/15\n",
            "\u001b[1m77/77\u001b[0m \u001b[32m━━━━━━━━━━━━━━━━━━━━\u001b[0m\u001b[37m\u001b[0m \u001b[1m0s\u001b[0m 2ms/step - accuracy: 1.0000 - loss: 0.0062 - val_accuracy: 1.0000 - val_loss: 0.0016\n",
            "Epoch 15/15\n",
            "\u001b[1m77/77\u001b[0m \u001b[32m━━━━━━━━━━━━━━━━━━━━\u001b[0m\u001b[37m\u001b[0m \u001b[1m0s\u001b[0m 2ms/step - accuracy: 1.0000 - loss: 0.0064 - val_accuracy: 1.0000 - val_loss: 0.0014\n"
          ]
        }
      ]
    },
    {
      "cell_type": "code",
      "source": [
        "model.save(\"RNA_MLP.h5\")"
      ],
      "metadata": {
        "colab": {
          "base_uri": "https://localhost:8080/"
        },
        "id": "zgdmnIUlq14-",
        "outputId": "e1b08950-9a75-40f1-be6f-46b616335acf"
      },
      "execution_count": null,
      "outputs": [
        {
          "output_type": "stream",
          "name": "stderr",
          "text": [
            "WARNING:absl:You are saving your model as an HDF5 file via `model.save()` or `keras.saving.save_model(model)`. This file format is considered legacy. We recommend using instead the native Keras format, e.g. `model.save('my_model.keras')` or `keras.saving.save_model(model, 'my_model.keras')`. \n"
          ]
        }
      ]
    },
    {
      "cell_type": "markdown",
      "source": [
        "**EXECUTE O BLOCO ABAIXO PARA REALIZAR A AVALIACAO DO MODELO TREINADO. OS COMENTÁRIOS EXPLICAM O FUNCIONAMENTO.**"
      ],
      "metadata": {
        "id": "t7lPLaCXfjRq"
      }
    },
    {
      "cell_type": "code",
      "source": [
        "# Avaliar o desempenho do modelo.\n",
        "\n",
        "# Função do Keras que calcula a perda e a precisão do modelo, usando os dados de teste.\n",
        "test_loss, test_acc = model.evaluate(X_test_weighted, y_test_onehot) # Sintomas e Rótulos de sáida one-hot (Conjunto de teste).\n",
        "\n",
        "print(f\"Test Accuracy: {test_acc:.4f}\")\n",
        "print(f\"Test Loss: {test_loss:.4f}\")"
      ],
      "metadata": {
        "colab": {
          "base_uri": "https://localhost:8080/"
        },
        "id": "KwwMm5GpBUFx",
        "outputId": "5e9771fe-fd28-423d-f00b-920061f0ef68"
      },
      "execution_count": null,
      "outputs": [
        {
          "output_type": "stream",
          "name": "stdout",
          "text": [
            "\u001b[1m2/2\u001b[0m \u001b[32m━━━━━━━━━━━━━━━━━━━━\u001b[0m\u001b[37m\u001b[0m \u001b[1m0s\u001b[0m 7ms/step - accuracy: 1.0000 - loss: 0.0905 \n",
            "Test Accuracy: 1.0000\n",
            "Test Loss: 0.0917\n"
          ]
        }
      ]
    },
    {
      "cell_type": "markdown",
      "source": [
        "**A BAIXO TEMOS A MATRIZ DE CONFUSÃO. OS COMENTÁRIOS EXPLICAM COMO FUNCIONA A IMPLEMENTACAO E INTERPRETACAO DOS DADOS.**"
      ],
      "metadata": {
        "id": "Hr5SuBtgbbap"
      }
    },
    {
      "cell_type": "code",
      "source": [
        "# Gerar a matriz de confusão comparando as classes verdadeiras com as classes previstas para o conjunto de teste.\n",
        "\n",
        "true_classes = np.argmax(y_test_onehot, axis=1)     # Converte os rótulos verdadeiros (em formato one-hot) para índices numéricos das classes originais.\n",
        "predictions = model.predict(X_test_weighted)        # Usa o modelo treinado para prever as classes do conjunto de teste X_test_weighted. A saída é uma matriz de probabilidades para cada amostra.\n",
        "predicted_classes = np.argmax(predictions, axis=1)  # Converte a matriz de probabilidades das predições em índices das classes previstas, identificando o índice da classe com a maior probabilidade para cada exemplo de teste.\n",
        "\n",
        "# Cria uma matriz de confusão usando as classes verdadeiras (true_classes) e as classes previstas pelo modelo (predicted_classes).\n",
        "# As linhas representam as classes verdadeiras.\n",
        "# As colunas representam as classes previstas.\n",
        "# Os valores corretos se correspondem na diagonal principal.\n",
        "conf_matrix = confusion_matrix(true_classes, predicted_classes)\n",
        "\n",
        "# Visualizar a matriz de confusão.\n",
        "plt.figure(figsize=(10, 8))\n",
        "sns.heatmap(conf_matrix, annot=True, fmt='d', cmap='Blues', xticklabels=label_encoder.classes_, yticklabels=label_encoder.classes_)\n",
        "plt.xlabel('Predicted Class')\n",
        "plt.ylabel('True Class')\n",
        "plt.title('Confusion Matrix')\n",
        "plt.show()"
      ],
      "metadata": {
        "colab": {
          "base_uri": "https://localhost:8080/",
          "height": 735
        },
        "collapsed": true,
        "id": "Xnun1V7o4y2L",
        "outputId": "7869a199-e3c4-4ae0-e2d9-450aa8607773"
      },
      "execution_count": null,
      "outputs": [
        {
          "output_type": "stream",
          "name": "stdout",
          "text": [
            "\u001b[1m2/2\u001b[0m \u001b[32m━━━━━━━━━━━━━━━━━━━━\u001b[0m\u001b[37m\u001b[0m \u001b[1m0s\u001b[0m 31ms/step\n"
          ]
        },
        {
          "output_type": "display_data",
          "data": {
            "text/plain": [
              "<Figure size 1000x800 with 2 Axes>"
            ],
            "image/png": "[encoded data removed]"
          },
          "metadata": {}
        }
      ]
    },
    {
      "cell_type": "markdown",
      "source": [
        "**ABAIXO TEMOS UMA FORMA DE CALCULAR MANUALMENTE A ACURÁCIA DO MODELO COM OS DADOS DE TESTE. OS COMENTÁRIOS EXPLICAM EM DETALHES COMO FUNCIONA.**"
      ],
      "metadata": {
        "id": "JYodwo0rbLIw"
      }
    },
    {
      "cell_type": "code",
      "source": [
        "# Calculo manual da acurácia do modelo com os dados de teste.\n",
        "\n",
        "# Usa o modelo para fazer predições com os dados de teste X_test.\n",
        "# O resultado, predictions, é uma matriz de probabilidades, onde cada linha contém as probabilidades de uma amostra pertencer a cada uma das classes.\n",
        "predictions = model.predict(X_test)\n",
        "predicted_classes = np.argmax(predictions, axis=1)  # Converte as probabilidades previstas em classes. np.argmax retorna o índice da classe com a maior probabilidade para cada exemplo, que é o rótulo da classe prevista pelo modelo para essa amostra.\n",
        "true_classes = np.argmax(y_test_onehot, axis=1)     # Converte os rótulos de saída y_test_onehot do formato one-hot para índices numéricos das classes reais (ou \"verdadeiras\").\n",
        "\n",
        "correct_predictions = np.sum(predicted_classes == true_classes) # Conta o número de predições corretas.\n",
        "total_predictions = len(true_classes)                           # Define o número total de amostras no conjunto de teste.\n",
        "accuracy = correct_predictions / total_predictions              # Calcula a acurácia dividindo o número de predições corretas (correct_predictions) pelo número total de predições (total_predictions). Esse valor representa a fração de amostras do conjunto de teste que foram classificadas corretamente.\n",
        "\n",
        "print(f\"Acurácia no conjunto de teste: {accuracy:.4f}\")"
      ],
      "metadata": {
        "colab": {
          "base_uri": "https://localhost:8080/"
        },
        "id": "YyX4zPaU7T6P",
        "outputId": "f5d1ac0e-5604-4899-aa2b-2be6ab3b7d44"
      },
      "execution_count": null,
      "outputs": [
        {
          "output_type": "stream",
          "name": "stdout",
          "text": [
            "\u001b[1m2/2\u001b[0m \u001b[32m━━━━━━━━━━━━━━━━━━━━\u001b[0m\u001b[37m\u001b[0m \u001b[1m0s\u001b[0m 4ms/step \n",
            "Acurácia no conjunto de teste: 1.0000\n"
          ]
        }
      ]
    },
    {
      "cell_type": "markdown",
      "source": [
        "**ABAIXO SEGUE UMA FORMA MANUAL DE TESTAR A REDE, INSERINDO OS SINTOMAS DE FORMA SEPARADA, É UMA SIMULACAO DO QUE SERÁ FEITO NA APLICACAO WEB EM QUE A RNA MLP SERÁ UTILIZADA.**"
      ],
      "metadata": {
        "id": "u4e_kmVFaVFL"
      }
    },
    {
      "cell_type": "code",
      "source": [
        "# Defina um dicionário com os pesos dos sintomas (este deve ser o mesmo usado na API).\n",
        "weights_dict = {\n",
        "    'abdominal_pain': 4,\n",
        "    'abnormal_menstruation': 6,\n",
        "    'acidity': 3,\n",
        "    'acute_liver_failure': 6,\n",
        "    'altered_sensorium': 2,\n",
        "    'anxiety': 4,\n",
        "    'back_pain': 3,\n",
        "    'belly_pain': 4,\n",
        "    'blackheads': 2,\n",
        "    'bladder_discomfort': 4,\n",
        "    'blister': 4,\n",
        "    'blood_in_sputum': 5,\n",
        "    'bloody_stool': 5,\n",
        "    'blurred_and_distorted_vision': 5,\n",
        "    'breathlessness': 4,\n",
        "    'brittle_nails': 5,\n",
        "    'bruising': 4,\n",
        "    'burning_micturition': 6,\n",
        "    'chest_pain': 7,\n",
        "    'chills': 3,\n",
        "    'cold_hands_and_feet': 5,\n",
        "    'coma': 7,\n",
        "    'congestion': 5,\n",
        "    'constipation': 4,\n",
        "    'continuous_feel_of_urine': 6,\n",
        "    'continuous_sneezing': 4,\n",
        "    'cough': 4,\n",
        "    'cramps': 4,\n",
        "    'dark_urine': 4,\n",
        "    'dehydration': 4,\n",
        "    'depression': 3,\n",
        "    'diarrhoea': 6,\n",
        "    'dischromic_patches': 6,\n",
        "    'distention_of_abdomen': 4,\n",
        "    'dizziness': 4,\n",
        "    'drying_and_tingling_lips': 4,\n",
        "    'enlarged_thyroid': 6,\n",
        "    'excessive_hunger': 4,\n",
        "    'extra_marital_contacts': 5,\n",
        "    'family_history': 5,\n",
        "    'fast_heart_rate': 5,\n",
        "    'fatigue': 4,\n",
        "    'fluid_overload': 6,\n",
        "    'fluid_overload': 4,\n",
        "    'foul_smell_of_urine': 5,\n",
        "    'headache': 3,\n",
        "    'high_fever': 7,\n",
        "    'hip_joint_pain': 2,\n",
        "    'history_of_alcohol_consumption': 5,\n",
        "    'increased_appetite': 5,\n",
        "    'indigestion': 5,\n",
        "    'inflammatory_nails': 2,\n",
        "    'internal_itching': 4,\n",
        "    'irregular_sugar_level': 5,\n",
        "    'irritability': 2,\n",
        "    'irritation_in_anus': 6,\n",
        "    'itching': 1,\n",
        "    'joint_pain': 3,\n",
        "    'knee_pain': 3,\n",
        "    'lack_of_concentration': 3,\n",
        "    'lethargy': 2,\n",
        "    'loss_of_appetite': 4,\n",
        "    'loss_of_balance': 4,\n",
        "    'loss_of_smell': 3,\n",
        "    'loss_of_taste': 5,\n",
        "    'malaise': 6,\n",
        "    'mild_fever': 5,\n",
        "    'mood_swings': 3,\n",
        "    'movement_stiffness': 5,\n",
        "    'mucoid_sputum': 4,\n",
        "    'muscle_pain': 2,\n",
        "    'muscle_wasting': 3,\n",
        "    'muscle_weakness': 2,\n",
        "    'nausea': 5,\n",
        "    'neck_pain': 5,\n",
        "    'nodal_skin_eruptions': 4,\n",
        "    'obesity': 4,\n",
        "    'pain_behind_the_eyes': 4,\n",
        "    'pain_during_bowel_movements': 5,\n",
        "    'pain_in_anal_region': 6,\n",
        "    'painful_walking': 2,\n",
        "    'palpitations': 4,\n",
        "    'passage_of_gases': 5,\n",
        "    'patches_in_throat': 6,\n",
        "    'phlegm': 5,\n",
        "    'polyuria': 4,\n",
        "    'prominent_veins_on_calf': 6,\n",
        "    'puffy_face_and_eyes': 5,\n",
        "    'pus_filled_pimples': 2,\n",
        "    'receiving_blood_transfusion': 5,\n",
        "    'receiving_unsterile_injections': 2,\n",
        "    'red_sore_around_nose': 2,\n",
        "    'red_spots_over_body': 3,\n",
        "    'redness_of_eyes': 5,\n",
        "    'restlessness': 5,\n",
        "    'runny_nose': 5,\n",
        "    'rusty_sputum': 4,\n",
        "    'scurrying': 2,\n",
        "    'shivering': 5,\n",
        "    'silver_like_dusting': 2,\n",
        "    'sinus_pressure': 4,\n",
        "    'skin_peeling': 3,\n",
        "    'skin_rash': 3,\n",
        "    'slurred_speech': 4,\n",
        "    'small_dents_in_nails': 2,\n",
        "    'spinning_movements': 6,\n",
        "    'spotting_urination': 6,\n",
        "    'stiff_neck': 4,\n",
        "    'stomach_bleeding': 6,\n",
        "    'stomach_pain': 5,\n",
        "    'sunken_eyes': 3,\n",
        "    'sweating': 3,\n",
        "    'swelled_lymph_nodes': 6,\n",
        "    'swelling_joints': 5,\n",
        "    'swelling_of_stomach': 7,\n",
        "    'swollen_blood_vessels': 5,\n",
        "    'swollen_extremities': 5,\n",
        "    'swollen_legs': 5,\n",
        "    'throat_irritation': 4,\n",
        "    'tiredness': 5,\n",
        "    'toxic_look_(typhus)': 5,\n",
        "    'ulcers_on_tongue': 4,\n",
        "    'unsteadiness': 4,\n",
        "    'visual_disturbances': 3,\n",
        "    'vomiting': 5,\n",
        "    'watering_from_eyes': 4,\n",
        "    'weakness_in_limbs': 7,\n",
        "    'weakness_of_one_body_side': 4,\n",
        "    'weight_gain': 3,\n",
        "    'weight_loss': 3,\n",
        "    'yellow_crust_ooze': 3,\n",
        "    'yellow_urine': 4,\n",
        "    'yellowing_of_eyes': 4,\n",
        "    'yellowish_skin': 3\n",
        "}\n",
        "\n",
        "\n",
        "# Criar a Função de Preparação de Entrada.\n",
        "def prepare_input(symptoms_list, symptom_columns):\n",
        "    # Inicializa um vetor com zeros com o tamanho igual ao número de sintomas.\n",
        "    input_vector = np.zeros(134)\n",
        "\n",
        "    # Preenche com os pesos dos sintomas que o paciente informou.\n",
        "    for symptom in symptoms_list:\n",
        "        if symptom in weights_dict:\n",
        "            # Obtém o índice da coluna correspondente ao sintoma.\n",
        "            index = symptom_columns.get_loc(symptom)\n",
        "            input_vector[index] = weights_dict[symptom]  # Use o peso do sintoma.\n",
        "\n",
        "    return input_vector"
      ],
      "metadata": {
        "id": "Balo9pNcAxJa"
      },
      "execution_count": null,
      "outputs": []
    },
    {
      "cell_type": "code",
      "source": [
        "# Sintomas que o paciente informa.\n",
        "patient_symptoms = ['chills', 'continuous_sneezing', 'shivering', 'watering_from_eyes']\n",
        "\n",
        "# Preparar o vetor de entrada.\n",
        "input_data = prepare_input(patient_symptoms, X_train.columns)\n",
        "\n",
        "# Transformar o vetor em DataFrame para normalização.\n",
        "input_data_df = pd.DataFrame(input_data.reshape(1, -1), columns=X_train.columns)\n",
        "\n",
        "# Normalizar a entrada (usando o mesmo scaler do treinamento e teste).\n",
        "input_data_normalized = scaler.transform(input_data_df)\n",
        "\n",
        "# Fazer a previsão.\n",
        "predictions = model.predict(input_data_normalized)\n",
        "predicted_class = np.argmax(predictions, axis=1)\n",
        "\n",
        "# Decodificar a classe prevista.\n",
        "diagnosis = label_encoder.inverse_transform(predicted_class)\n",
        "print(f\"O diagnóstico previsto é: {diagnosis[0]}\")\n"
      ],
      "metadata": {
        "colab": {
          "base_uri": "https://localhost:8080/"
        },
        "id": "SHvBWIUzA-ba",
        "outputId": "0d083314-1ea6-4c20-cc78-8a79664c9906"
      },
      "execution_count": null,
      "outputs": [
        {
          "output_type": "stream",
          "name": "stdout",
          "text": [
            "\u001b[1m1/1\u001b[0m \u001b[32m━━━━━━━━━━━━━━━━━━━━\u001b[0m\u001b[37m\u001b[0m \u001b[1m0s\u001b[0m 47ms/step\n",
            "O diagnóstico previsto é: Classe 8\n"
          ]
        }
      ]
    },
    {
      "cell_type": "markdown",
      "source": [
        "**EXPORTANDO O SCALER E O LABEL ENCODER AJUSATADOS NA RNA PARA UTILIZA-LOS NA API SEM ERROS DE AJUSTE E NORMALIZACAO.**"
      ],
      "metadata": {
        "id": "qY9NtTUWbJk9"
      }
    },
    {
      "cell_type": "code",
      "source": [
        "import joblib\n",
        "from google.colab import files\n",
        "\n",
        "scaler.fit(X_train)\n",
        "# Salvar o scaler em um arquivo\n",
        "joblib.dump(scaler, 'scaler.pkl')\n",
        "# Fazer o download do scaler\n",
        "files.download('scaler.pkl')"
      ],
      "metadata": {
        "colab": {
          "base_uri": "https://localhost:8080/",
          "height": 17
        },
        "id": "BxUeYIfhQRLE",
        "outputId": "e23c1d3c-62eb-4562-92c1-0f85b600efbd"
      },
      "execution_count": null,
      "outputs": [
        {
          "output_type": "display_data",
          "data": {
            "text/plain": [
              "<IPython.core.display.Javascript object>"
            ],
            "application/javascript": [
              "\n",
              "    async function download(id, filename, size) {\n",
              "      if (!google.colab.kernel.accessAllowed) {\n",
              "        return;\n",
              "      }\n",
              "      const div = document.createElement('div');\n",
              "      const label = document.createElement('label');\n",
              "      label.textContent = `Downloading \"${filename}\": `;\n",
              "      div.appendChild(label);\n",
              "      const progress = document.createElement('progress');\n",
              "      progress.max = size;\n",
              "      div.appendChild(progress);\n",
              "      document.body.appendChild(div);\n",
              "\n",
              "      const buffers = [];\n",
              "      let downloaded = 0;\n",
              "\n",
              "      const channel = await google.colab.kernel.comms.open(id);\n",
              "      // Send a message to notify the kernel that we're ready.\n",
              "      channel.send({})\n",
              "\n",
              "      for await (const message of channel.messages) {\n",
              "        // Send a message to notify the kernel that we're ready.\n",
              "        channel.send({})\n",
              "        if (message.buffers) {\n",
              "          for (const buffer of message.buffers) {\n",
              "            buffers.push(buffer);\n",
              "            downloaded += buffer.byteLength;\n",
              "            progress.value = downloaded;\n",
              "          }\n",
              "        }\n",
              "      }\n",
              "      const blob = new Blob(buffers, {type: 'application/binary'});\n",
              "      const a = document.createElement('a');\n",
              "      a.href = window.URL.createObjectURL(blob);\n",
              "      a.download = filename;\n",
              "      div.appendChild(a);\n",
              "      a.click();\n",
              "      div.remove();\n",
              "    }\n",
              "  "
            ]
          },
          "metadata": {}
        },
        {
          "output_type": "display_data",
          "data": {
            "text/plain": [
              "<IPython.core.display.Javascript object>"
            ],
            "application/javascript": [
              "download(\"download_89f0d826-57f9-415c-ba0e-4dd2929d344a\", \"scaler.pkl\", 6999)"
            ]
          },
          "metadata": {}
        }
      ]
    },
    {
      "cell_type": "code",
      "source": [
        "from sklearn.preprocessing import LabelEncoder\n",
        "import joblib\n",
        "\n",
        "# Ajustar o LabelEncoder com os rótulos de saída (exemplo: classes de doenças)\n",
        "label_encoder = LabelEncoder()\n",
        "label_encoder.fit(y_train)  # Onde y_train são os rótulos de treino (as classes de doenças)\n",
        "\n",
        "# Salvar o LabelEncoder ajustado\n",
        "joblib.dump(label_encoder, 'label_encoder.pkl')\n",
        "files.download('label_encoder.pkl')"
      ],
      "metadata": {
        "colab": {
          "base_uri": "https://localhost:8080/",
          "height": 17
        },
        "id": "GeCUyjyiTQyq",
        "outputId": "4e5ef951-3a40-47d4-fc43-c714def079b0"
      },
      "execution_count": null,
      "outputs": [
        {
          "output_type": "display_data",
          "data": {
            "text/plain": [
              "<IPython.core.display.Javascript object>"
            ],
            "application/javascript": [
              "\n",
              "    async function download(id, filename, size) {\n",
              "      if (!google.colab.kernel.accessAllowed) {\n",
              "        return;\n",
              "      }\n",
              "      const div = document.createElement('div');\n",
              "      const label = document.createElement('label');\n",
              "      label.textContent = `Downloading \"${filename}\": `;\n",
              "      div.appendChild(label);\n",
              "      const progress = document.createElement('progress');\n",
              "      progress.max = size;\n",
              "      div.appendChild(progress);\n",
              "      document.body.appendChild(div);\n",
              "\n",
              "      const buffers = [];\n",
              "      let downloaded = 0;\n",
              "\n",
              "      const channel = await google.colab.kernel.comms.open(id);\n",
              "      // Send a message to notify the kernel that we're ready.\n",
              "      channel.send({})\n",
              "\n",
              "      for await (const message of channel.messages) {\n",
              "        // Send a message to notify the kernel that we're ready.\n",
              "        channel.send({})\n",
              "        if (message.buffers) {\n",
              "          for (const buffer of message.buffers) {\n",
              "            buffers.push(buffer);\n",
              "            downloaded += buffer.byteLength;\n",
              "            progress.value = downloaded;\n",
              "          }\n",
              "        }\n",
              "      }\n",
              "      const blob = new Blob(buffers, {type: 'application/binary'});\n",
              "      const a = document.createElement('a');\n",
              "      a.href = window.URL.createObjectURL(blob);\n",
              "      a.download = filename;\n",
              "      div.appendChild(a);\n",
              "      a.click();\n",
              "      div.remove();\n",
              "    }\n",
              "  "
            ]
          },
          "metadata": {}
        },
        {
          "output_type": "display_data",
          "data": {
            "text/plain": [
              "<IPython.core.display.Javascript object>"
            ],
            "application/javascript": [
              "download(\"download_0819c1c4-2b1f-4a1b-b191-2479e791354b\", \"label_encoder.pkl\", 653)"
            ]
          },
          "metadata": {}
        }
      ]
    }
  ]
}